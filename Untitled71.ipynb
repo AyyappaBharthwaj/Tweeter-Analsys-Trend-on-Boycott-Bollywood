{
 "cells": [
  {
   "cell_type": "code",
   "execution_count": 22,
   "id": "f1e584f0",
   "metadata": {},
   "outputs": [],
   "source": [
    "import numpy as np # linear algebra\n",
    "import pandas as pd # data processing, CSV file I/O (e.g. pd.read_csv)"
   ]
  },
  {
   "cell_type": "code",
   "execution_count": 23,
   "id": "29963fe1",
   "metadata": {},
   "outputs": [],
   "source": [
    "tweets = pd.read_csv('tweets.csv')"
   ]
  },
  {
   "cell_type": "code",
   "execution_count": 24,
   "id": "0e10bfc6",
   "metadata": {},
   "outputs": [
    {
     "data": {
      "text/html": [
       "<div>\n",
       "<style scoped>\n",
       "    .dataframe tbody tr th:only-of-type {\n",
       "        vertical-align: middle;\n",
       "    }\n",
       "\n",
       "    .dataframe tbody tr th {\n",
       "        vertical-align: top;\n",
       "    }\n",
       "\n",
       "    .dataframe thead th {\n",
       "        text-align: right;\n",
       "    }\n",
       "</style>\n",
       "<table border=\"1\" class=\"dataframe\">\n",
       "  <thead>\n",
       "    <tr style=\"text-align: right;\">\n",
       "      <th></th>\n",
       "      <th>Unnamed: 0</th>\n",
       "      <th>tweet_text</th>\n",
       "      <th>Label</th>\n",
       "    </tr>\n",
       "  </thead>\n",
       "  <tbody>\n",
       "    <tr>\n",
       "      <th>0</th>\n",
       "      <td>0</td>\n",
       "      <td>never emot make sad</td>\n",
       "      <td>No</td>\n",
       "    </tr>\n",
       "    <tr>\n",
       "      <th>1</th>\n",
       "      <td>1</td>\n",
       "      <td>z  sabki</td>\n",
       "      <td>No</td>\n",
       "    </tr>\n",
       "    <tr>\n",
       "      <th>2</th>\n",
       "      <td>2</td>\n",
       "      <td>taranadarsh netflixindia hahahahaha netflixind...</td>\n",
       "      <td>No</td>\n",
       "    </tr>\n",
       "    <tr>\n",
       "      <th>3</th>\n",
       "      <td>3</td>\n",
       "      <td>indiantweet shoot   charg communal disharmoni ...</td>\n",
       "      <td>No</td>\n",
       "    </tr>\n",
       "    <tr>\n",
       "      <th>4</th>\n",
       "      <td>4</td>\n",
       "      <td>simplepass  ranbirkapoorr point taken</td>\n",
       "      <td>No</td>\n",
       "    </tr>\n",
       "  </tbody>\n",
       "</table>\n",
       "</div>"
      ],
      "text/plain": [
       "   Unnamed: 0                                         tweet_text Label\n",
       "0           0                                never emot make sad    No\n",
       "1           1                                           z  sabki    No\n",
       "2           2  taranadarsh netflixindia hahahahaha netflixind...    No\n",
       "3           3  indiantweet shoot   charg communal disharmoni ...    No\n",
       "4           4              simplepass  ranbirkapoorr point taken    No"
      ]
     },
     "execution_count": 24,
     "metadata": {},
     "output_type": "execute_result"
    }
   ],
   "source": [
    "tweets.head()"
   ]
  },
  {
   "cell_type": "code",
   "execution_count": 25,
   "id": "b6b1a6ee",
   "metadata": {},
   "outputs": [
    {
     "data": {
      "text/html": [
       "<div>\n",
       "<style scoped>\n",
       "    .dataframe tbody tr th:only-of-type {\n",
       "        vertical-align: middle;\n",
       "    }\n",
       "\n",
       "    .dataframe tbody tr th {\n",
       "        vertical-align: top;\n",
       "    }\n",
       "\n",
       "    .dataframe thead th {\n",
       "        text-align: right;\n",
       "    }\n",
       "</style>\n",
       "<table border=\"1\" class=\"dataframe\">\n",
       "  <thead>\n",
       "    <tr style=\"text-align: right;\">\n",
       "      <th></th>\n",
       "      <th>Unnamed: 0</th>\n",
       "      <th>tweet_text</th>\n",
       "      <th>Label</th>\n",
       "    </tr>\n",
       "  </thead>\n",
       "  <tbody>\n",
       "    <tr>\n",
       "      <th>221760</th>\n",
       "      <td>283604</td>\n",
       "      <td>good riddanc 🇮🇳</td>\n",
       "      <td>No</td>\n",
       "    </tr>\n",
       "    <tr>\n",
       "      <th>221761</th>\n",
       "      <td>283605</td>\n",
       "      <td>happi burst local polit work dont forget stil...</td>\n",
       "      <td>No</td>\n",
       "    </tr>\n",
       "    <tr>\n",
       "      <th>221762</th>\n",
       "      <td>283606</td>\n",
       "      <td>reason could happen never seen anyth like hop...</td>\n",
       "      <td>No</td>\n",
       "    </tr>\n",
       "    <tr>\n",
       "      <th>221763</th>\n",
       "      <td>283608</td>\n",
       "      <td>narcoticsbureau iamsrk thought involv arrest...</td>\n",
       "      <td>No</td>\n",
       "    </tr>\n",
       "    <tr>\n",
       "      <th>221764</th>\n",
       "      <td>283609</td>\n",
       "      <td>aryan khan sanjay dutt version lite  superstar...</td>\n",
       "      <td>No</td>\n",
       "    </tr>\n",
       "  </tbody>\n",
       "</table>\n",
       "</div>"
      ],
      "text/plain": [
       "        Unnamed: 0                                         tweet_text Label\n",
       "221760      283604                                    good riddanc 🇮🇳    No\n",
       "221761      283605   happi burst local polit work dont forget stil...    No\n",
       "221762      283606   reason could happen never seen anyth like hop...    No\n",
       "221763      283608    narcoticsbureau iamsrk thought involv arrest...    No\n",
       "221764      283609  aryan khan sanjay dutt version lite  superstar...    No"
      ]
     },
     "execution_count": 25,
     "metadata": {},
     "output_type": "execute_result"
    }
   ],
   "source": [
    "tweets.tail()"
   ]
  },
  {
   "cell_type": "code",
   "execution_count": 26,
   "id": "5eecfe3d",
   "metadata": {},
   "outputs": [],
   "source": [
    "tweets = tweets.drop(['Unnamed: 0'], axis = 1)"
   ]
  },
  {
   "cell_type": "code",
   "execution_count": 27,
   "id": "9cefd803",
   "metadata": {},
   "outputs": [
    {
     "data": {
      "text/plain": [
       "(221765, 2)"
      ]
     },
     "execution_count": 27,
     "metadata": {},
     "output_type": "execute_result"
    }
   ],
   "source": [
    "tweets.shape"
   ]
  },
  {
   "cell_type": "code",
   "execution_count": 28,
   "id": "4ce78489",
   "metadata": {},
   "outputs": [
    {
     "data": {
      "text/plain": [
       "Index(['tweet_text', 'Label'], dtype='object')"
      ]
     },
     "execution_count": 28,
     "metadata": {},
     "output_type": "execute_result"
    }
   ],
   "source": [
    "tweets.columns"
   ]
  },
  {
   "cell_type": "code",
   "execution_count": 29,
   "id": "8c08ccc8",
   "metadata": {},
   "outputs": [
    {
     "data": {
      "text/plain": [
       "27832"
      ]
     },
     "execution_count": 29,
     "metadata": {},
     "output_type": "execute_result"
    }
   ],
   "source": [
    "tweets.duplicated().sum()"
   ]
  },
  {
   "cell_type": "code",
   "execution_count": 30,
   "id": "4ffcc575",
   "metadata": {},
   "outputs": [],
   "source": [
    "tweets = tweets.drop_duplicates()"
   ]
  },
  {
   "cell_type": "code",
   "execution_count": 31,
   "id": "fce6160b",
   "metadata": {},
   "outputs": [
    {
     "data": {
      "text/plain": [
       "tweet_text    0\n",
       "Label         0\n",
       "dtype: int64"
      ]
     },
     "execution_count": 31,
     "metadata": {},
     "output_type": "execute_result"
    }
   ],
   "source": [
    "tweets.isnull().sum()"
   ]
  },
  {
   "cell_type": "code",
   "execution_count": 32,
   "id": "38b3427a",
   "metadata": {},
   "outputs": [
    {
     "name": "stdout",
     "output_type": "stream",
     "text": [
      "<class 'pandas.core.frame.DataFrame'>\n",
      "Int64Index: 193933 entries, 0 to 221764\n",
      "Data columns (total 2 columns):\n",
      " #   Column      Non-Null Count   Dtype \n",
      "---  ------      --------------   ----- \n",
      " 0   tweet_text  193933 non-null  object\n",
      " 1   Label       193933 non-null  object\n",
      "dtypes: object(2)\n",
      "memory usage: 4.4+ MB\n"
     ]
    }
   ],
   "source": [
    "tweets.info()"
   ]
  },
  {
   "cell_type": "code",
   "execution_count": 34,
   "id": "08ecbcf2",
   "metadata": {},
   "outputs": [
    {
     "data": {
      "text/plain": [
       "array([0, 1])"
      ]
     },
     "execution_count": 34,
     "metadata": {},
     "output_type": "execute_result"
    }
   ],
   "source": [
    "# Import label encoder\n",
    "from sklearn import preprocessing\n",
    "\n",
    "# label_encoder object knows how to understand word labels.\n",
    "label_encoder = preprocessing.LabelEncoder()\n",
    "\n",
    "# Encode labels in column 'species'.\n",
    "tweets['Label']= label_encoder.fit_transform(tweets['Label'])\n",
    "\n",
    "tweets['Label'].unique()\n"
   ]
  },
  {
   "cell_type": "code",
   "execution_count": 35,
   "id": "b5f24dee",
   "metadata": {},
   "outputs": [],
   "source": [
    "x = tweets['tweet_text']\n",
    "y=tweets['Label']"
   ]
  },
  {
   "cell_type": "code",
   "execution_count": 36,
   "id": "2dbcb47b",
   "metadata": {},
   "outputs": [
    {
     "name": "stdout",
     "output_type": "stream",
     "text": [
      "Train Shape:  (129935,)\n",
      "Test Shape:  (63998,)\n",
      "Train Shape:  (129935,)\n",
      "Test Shape:  (63998,)\n"
     ]
    }
   ],
   "source": [
    "from sklearn.model_selection import train_test_split\n",
    "df_train,df_test,y_train,y_test=train_test_split(x,y,test_size=0.33,random_state=42)\n",
    "print('Train Shape: ',df_train.shape)\n",
    "print('Test Shape: ',df_test.shape)\n",
    "print('Train Shape: ',y_train.shape)\n",
    "print('Test Shape: ',y_test.shape)"
   ]
  },
  {
   "cell_type": "code",
   "execution_count": 37,
   "id": "a05cd5c9",
   "metadata": {},
   "outputs": [],
   "source": [
    "from tensorflow.keras.preprocessing.text import Tokenizer\n",
    "max_words=10000\n",
    "tokenizer=Tokenizer(max_words)\n",
    "tokenizer.fit_on_texts(df_train)\n",
    "data_test = tokenizer.texts.texts_to_sequences(df_train)\n",
    "data_train = tokenizer.texts.texts_to_sequences(df_test)"
   ]
  },
  {
   "cell_type": "code",
   "execution_count": 38,
   "id": "47795cc3",
   "metadata": {},
   "outputs": [
    {
     "name": "stdout",
     "output_type": "stream",
     "text": [
      "dataset has 108414 number of independent tokens\n"
     ]
    }
   ],
   "source": [
    "word2vec=tokenizer.word_index\n",
    "V=len(word2vec)\n",
    "print('dataset has %s number of independent tokens' %V)"
   ]
  },
  {
   "cell_type": "code",
   "execution_count": 39,
   "id": "7aa66bda",
   "metadata": {},
   "outputs": [
    {
     "data": {
      "text/plain": [
       "(129935, 60)"
      ]
     },
     "execution_count": 39,
     "metadata": {},
     "output_type": "execute_result"
    }
   ],
   "source": [
    "from tensorflow.keras.preprocessing.sequence import pad_sequences\n",
    "data_train=pad_sequences(sequence_train)\n",
    "data_train.shape"
   ]
  },
  {
   "cell_type": "code",
   "execution_count": 40,
   "id": "a5af6a83",
   "metadata": {},
   "outputs": [
    {
     "data": {
      "text/plain": [
       "(63998, 60)"
      ]
     },
     "execution_count": 40,
     "metadata": {},
     "output_type": "execute_result"
    }
   ],
   "source": [
    "T=data_train.shape[1]\n",
    "data_test=pad_sequences(sequence_test,maxlen=T)\n",
    "data_test.shape"
   ]
  },
  {
   "cell_type": "code",
   "execution_count": 41,
   "id": "94aa06bf",
   "metadata": {},
   "outputs": [],
   "source": [
    "from tensorflow.keras.layers import Input,Conv1D,MaxPooling1D,Dense,GlobalMaxPooling1D,Embedding\n",
    "from tensorflow.keras.models import Model"
   ]
  },
  {
   "cell_type": "code",
   "execution_count": 42,
   "id": "6410ce1f",
   "metadata": {},
   "outputs": [
    {
     "name": "stdout",
     "output_type": "stream",
     "text": [
      "Model: \"model_1\"\n",
      "_________________________________________________________________\n",
      " Layer (type)                Output Shape              Param #   \n",
      "=================================================================\n",
      " input_2 (InputLayer)        [(None, 60)]              0         \n",
      "                                                                 \n",
      " embedding_1 (Embedding)     (None, 60, 20)            2168300   \n",
      "                                                                 \n",
      " conv1d_3 (Conv1D)           (None, 58, 32)            1952      \n",
      "                                                                 \n",
      " max_pooling1d_2 (MaxPooling  (None, 19, 32)           0         \n",
      " 1D)                                                             \n",
      "                                                                 \n",
      " conv1d_4 (Conv1D)           (None, 17, 64)            6208      \n",
      "                                                                 \n",
      " max_pooling1d_3 (MaxPooling  (None, 5, 64)            0         \n",
      " 1D)                                                             \n",
      "                                                                 \n",
      " conv1d_5 (Conv1D)           (None, 3, 128)            24704     \n",
      "                                                                 \n",
      " global_max_pooling1d_1 (Glo  (None, 128)              0         \n",
      " balMaxPooling1D)                                                \n",
      "                                                                 \n",
      " dense_1 (Dense)             (None, 5)                 645       \n",
      "                                                                 \n",
      "=================================================================\n",
      "Total params: 2,201,809\n",
      "Trainable params: 2,201,809\n",
      "Non-trainable params: 0\n",
      "_________________________________________________________________\n"
     ]
    }
   ],
   "source": [
    "D=20\n",
    "i=Input((T,))\n",
    "x=Embedding(V+1,D)(i)\n",
    "x=Conv1D(32,3,activation='relu')(x)\n",
    "x=MaxPooling1D(3)(x)\n",
    "x=Conv1D(64,3,activation='relu')(x)\n",
    "x=MaxPooling1D(3)(x)\n",
    "x=Conv1D(128,3,activation='relu')(x)\n",
    "x=GlobalMaxPooling1D()(x)\n",
    "x=Dense(5,activation='softmax')(x)\n",
    "model=Model(i,x)\n",
    "model.summary()"
   ]
  },
  {
   "cell_type": "code",
   "execution_count": 43,
   "id": "4cb98134",
   "metadata": {},
   "outputs": [
    {
     "name": "stdout",
     "output_type": "stream",
     "text": [
      "Epoch 1/10\n",
      "1300/1300 [==============================] - 27s 20ms/step - loss: 0.2150 - accuracy: 0.9501 - val_loss: 0.1978 - val_accuracy: 0.9500\n",
      "Epoch 2/10\n",
      "1300/1300 [==============================] - 26s 20ms/step - loss: 0.1868 - accuracy: 0.9507 - val_loss: 0.1993 - val_accuracy: 0.9499\n",
      "Epoch 3/10\n",
      "1300/1300 [==============================] - 27s 21ms/step - loss: 0.1665 - accuracy: 0.9524 - val_loss: 0.2123 - val_accuracy: 0.9484\n",
      "Epoch 4/10\n",
      "1300/1300 [==============================] - 27s 21ms/step - loss: 0.1433 - accuracy: 0.9585 - val_loss: 0.2499 - val_accuracy: 0.9439\n",
      "Epoch 5/10\n",
      "1300/1300 [==============================] - 27s 21ms/step - loss: 0.1239 - accuracy: 0.9650 - val_loss: 0.2925 - val_accuracy: 0.9448\n",
      "Epoch 6/10\n",
      "1300/1300 [==============================] - 27s 21ms/step - loss: 0.1130 - accuracy: 0.9694 - val_loss: 0.3023 - val_accuracy: 0.9427\n",
      "Epoch 7/10\n",
      "1300/1300 [==============================] - 30s 23ms/step - loss: 0.1072 - accuracy: 0.9712 - val_loss: 0.3302 - val_accuracy: 0.9403\n",
      "Epoch 8/10\n",
      "1300/1300 [==============================] - 27s 21ms/step - loss: 0.1038 - accuracy: 0.9721 - val_loss: 0.3685 - val_accuracy: 0.9454\n",
      "Epoch 9/10\n",
      "1300/1300 [==============================] - 27s 21ms/step - loss: 0.1010 - accuracy: 0.9730 - val_loss: 0.3789 - val_accuracy: 0.9436\n",
      "Epoch 10/10\n",
      "1300/1300 [==============================] - 28s 21ms/step - loss: 0.0988 - accuracy: 0.9735 - val_loss: 0.4003 - val_accuracy: 0.9389\n"
     ]
    }
   ],
   "source": [
    "model.compile(loss='sparse_categorical_crossentropy',optimizer='adam',metrics=['accuracy'])\n",
    "cnn_senti=model.fit(data_train,y_train,validation_data=(data_test,y_test),epochs=10,batch_size=100)"
   ]
  },
  {
   "cell_type": "code",
   "execution_count": 44,
   "id": "a94766e0",
   "metadata": {},
   "outputs": [
    {
     "name": "stdout",
     "output_type": "stream",
     "text": [
      "2000/2000 [==============================] - 3s 2ms/step\n"
     ]
    },
    {
     "data": {
      "text/plain": [
       "array([[1.0000000e+00, 5.6615224e-10, 4.7428421e-38, 2.6729241e-38,\n",
       "        8.7216628e-37],\n",
       "       [9.9086690e-01, 9.1330511e-03, 6.1138594e-10, 5.7602800e-10,\n",
       "        1.1901466e-09],\n",
       "       [9.5084363e-01, 4.9154613e-02, 5.0147759e-07, 4.9555200e-07,\n",
       "        7.8137754e-07],\n",
       "       ...,\n",
       "       [9.5084363e-01, 4.9154613e-02, 5.0147759e-07, 4.9555200e-07,\n",
       "        7.8137754e-07],\n",
       "       [9.9998975e-01, 1.0261331e-05, 9.6525636e-32, 1.2475915e-31,\n",
       "        4.7386171e-30],\n",
       "       [9.9999893e-01, 1.0758462e-06, 1.7126457e-37, 1.7720735e-37,\n",
       "        1.2182537e-35]], dtype=float32)"
      ]
     },
     "execution_count": 44,
     "metadata": {},
     "output_type": "execute_result"
    }
   ],
   "source": [
    "y_pred=model.predict(data_test)\n",
    "y_pred"
   ]
  },
  {
   "cell_type": "code",
   "execution_count": 45,
   "id": "3bd869c5",
   "metadata": {},
   "outputs": [
    {
     "data": {
      "text/plain": [
       "array([0, 0, 0, ..., 0, 0, 0], dtype=int64)"
      ]
     },
     "execution_count": 45,
     "metadata": {},
     "output_type": "execute_result"
    }
   ],
   "source": [
    "y_pred=np.argmax(y_pred,axis=1)\n",
    "y_pred"
   ]
  },
  {
   "cell_type": "code",
   "execution_count": 46,
   "id": "78e21ec5",
   "metadata": {},
   "outputs": [],
   "source": [
    "from sklearn.metrics import confusion_matrix,classification_report\n",
    "import seaborn as sns"
   ]
  },
  {
   "cell_type": "code",
   "execution_count": 47,
   "id": "941d44ca",
   "metadata": {},
   "outputs": [
    {
     "data": {
      "text/plain": [
       "Text(33.0, 0.5, 'y_pred')"
      ]
     },
     "execution_count": 47,
     "metadata": {},
     "output_type": "execute_result"
    },
    {
     "data": {
      "image/png": "[encoded data removed]",
      "text/plain": [
       "<Figure size 432x288 with 2 Axes>"
      ]
     },
     "metadata": {
      "needs_background": "light"
     },
     "output_type": "display_data"
    }
   ],
   "source": [
    "cm=confusion_matrix(y_test,y_pred)\n",
    "ax=sns.heatmap(cm,annot=True,cmap='Blues',fmt=' ')\n",
    "ax.set_title('Confusion Matrix')\n",
    "ax.set_xlabel('y_test')\n",
    "ax.set_ylabel('y_pred')"
   ]
  },
  {
   "cell_type": "code",
   "execution_count": 48,
   "id": "bd18f207",
   "metadata": {},
   "outputs": [
    {
     "name": "stdout",
     "output_type": "stream",
     "text": [
      "              precision    recall  f1-score   support\n",
      "\n",
      "           0       0.95      0.99      0.97     60796\n",
      "           1       0.14      0.04      0.07      3202\n",
      "\n",
      "    accuracy                           0.94     63998\n",
      "   macro avg       0.55      0.51      0.52     63998\n",
      "weighted avg       0.91      0.94      0.92     63998\n",
      "\n"
     ]
    }
   ],
   "source": [
    "print(classification_report(y_test,y_pred))"
   ]
  }
 ],
 "metadata": {
  "kernelspec": {
   "display_name": "Python 3 (ipykernel)",
   "language": "python",
   "name": "python3"
  },
  "language_info": {
   "codemirror_mode": {
    "name": "ipython",
    "version": 3
   },
   "file_extension": ".py",
   "mimetype": "text/x-python",
   "name": "python",
   "nbconvert_exporter": "python",
   "pygments_lexer": "ipython3",
   "version": "3.8.4"
  }
 },
 "nbformat": 4,
 "nbformat_minor": 5
}
